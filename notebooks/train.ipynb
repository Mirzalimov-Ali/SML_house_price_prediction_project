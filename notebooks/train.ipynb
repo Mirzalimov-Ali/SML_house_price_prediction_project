{
 "cells": [
  {
   "cell_type": "code",
   "execution_count": 1,
   "id": "fce3bdd7",
   "metadata": {},
   "outputs": [],
   "source": [
    "import sys\n",
    "sys.path.append(\"../src\")"
   ]
  },
  {
   "cell_type": "code",
   "execution_count": 2,
   "id": "9f27be73",
   "metadata": {},
   "outputs": [],
   "source": [
    "import pandas as pd"
   ]
  },
  {
   "cell_type": "code",
   "execution_count": null,
   "id": "7ec19946",
   "metadata": {},
   "outputs": [],
   "source": [
    "from feature_engineering import FeatureSelection"
   ]
  },
  {
   "cell_type": "code",
   "execution_count": 4,
   "id": "98295576",
   "metadata": {},
   "outputs": [],
   "source": [
    "df = pd.read_csv(\"../data/final/final_dataset.csv\")"
   ]
  },
  {
   "cell_type": "markdown",
   "id": "151121f5",
   "metadata": {},
   "source": [
    "# import Algorithms / K-Fold"
   ]
  },
  {
   "cell_type": "code",
   "execution_count": null,
   "id": "a70ab122",
   "metadata": {},
   "outputs": [],
   "source": [
    "from sklearn.linear_model import LinearRegression, Lasso, Ridge, ElasticNet\n",
    "from sklearn.tree import DecisionTreeRegressor\n",
    "from sklearn.ensemble import RandomForestRegressor, GradientBoostingRegressor, ExtraTreesRegressor, HistGradientBoostingRegressor, AdaBoostRegressor\n",
    "from sklearn.svm import SVR\n",
    "from sklearn.neighbors import KNeighborsRegressor\n",
    "import xgboost"
   ]
  },
  {
   "cell_type": "code",
   "execution_count": 6,
   "id": "c848c65c",
   "metadata": {},
   "outputs": [],
   "source": [
    "from tabulate import tabulate\n",
    "from sklearn.model_selection import train_test_split\n",
    "from sklearn.metrics import r2_score, mean_absolute_error"
   ]
  },
  {
   "cell_type": "markdown",
   "id": "4820d3bd",
   "metadata": {},
   "source": [
    "# Feature Selection"
   ]
  },
  {
   "cell_type": "code",
   "execution_count": 7,
   "id": "c47ba218",
   "metadata": {},
   "outputs": [],
   "source": [
    "fs = FeatureSelection(df, target=\"price\")\n",
    "fs.filter_by_correlation()\n",
    "selected_features = fs.get_selected_features()"
   ]
  },
  {
   "cell_type": "code",
   "execution_count": 28,
   "id": "181e0a81",
   "metadata": {},
   "outputs": [
    {
     "data": {
      "text/plain": [
       "['bedrooms',\n",
       " 'bathrooms',\n",
       " 'sqft_living',\n",
       " 'floors',\n",
       " 'view',\n",
       " 'grade',\n",
       " 'sqft_above',\n",
       " 'sqft_basement',\n",
       " 'lat',\n",
       " 'sqft_living15',\n",
       " 'bath_per_bed']"
      ]
     },
     "execution_count": 28,
     "metadata": {},
     "output_type": "execute_result"
    }
   ],
   "source": [
    "selected_features"
   ]
  },
  {
   "cell_type": "code",
   "execution_count": 8,
   "id": "7284a346",
   "metadata": {},
   "outputs": [],
   "source": [
    "x = df[selected_features]\n",
    "y = df['price']"
   ]
  },
  {
   "cell_type": "markdown",
   "id": "ac2b8686",
   "metadata": {},
   "source": [
    "# Splits"
   ]
  },
  {
   "cell_type": "code",
   "execution_count": 9,
   "id": "19324918",
   "metadata": {},
   "outputs": [],
   "source": [
    "from sklearn.model_selection import KFold, cross_val_score\n",
    "\n",
    "kf = KFold(n_splits=5, shuffle=True, random_state=42)"
   ]
  },
  {
   "cell_type": "code",
   "execution_count": 10,
   "id": "f44c9bd6",
   "metadata": {},
   "outputs": [],
   "source": [
    "x_train, x_test, y_train, y_test = train_test_split(x, y, test_size=0.2, random_state=42)"
   ]
  },
  {
   "cell_type": "markdown",
   "id": "f9ed8beb",
   "metadata": {},
   "source": [
    "# LinearRegression"
   ]
  },
  {
   "cell_type": "code",
   "execution_count": 11,
   "id": "59cace59",
   "metadata": {},
   "outputs": [
    {
     "name": "stdout",
     "output_type": "stream",
     "text": [
      "linear regression score: 0.7301693342555966\n",
      "linear regression mae: 0.21268748393159562\n",
      "--------------------------------------\n",
      "K-Fold mean: 0.728613798934763\n",
      "K-Fold std: 0.004136340661863084\n",
      "Selected features: ['bedrooms', 'bathrooms', 'sqft_living', 'floors', 'view', 'grade', 'sqft_above', 'sqft_basement', 'lat', 'sqft_living15', 'bath_per_bed']\n"
     ]
    }
   ],
   "source": [
    "lr = LinearRegression()\n",
    "\n",
    "lr.fit(x_train, y_train)\n",
    "\n",
    "y_pred = lr.predict(x_test)\n",
    "\n",
    "lr_score = r2_score(y_test, y_pred)\n",
    "lr_mae = mean_absolute_error(y_test, y_pred)\n",
    "lr_scores = cross_val_score(lr, x, y, cv=kf, scoring='r2')\n",
    "\n",
    "print(f'linear regression score: {lr_score}')\n",
    "print(f'linear regression mae: {lr_mae}')\n",
    "print('--------------------------------------')\n",
    "print(\"K-Fold mean:\", lr_scores.mean())\n",
    "print(\"K-Fold std:\", lr_scores.std())\n",
    "print(\"Selected features:\", list(selected_features))"
   ]
  },
  {
   "cell_type": "markdown",
   "id": "de82da63",
   "metadata": {},
   "source": [
    "# Lasso"
   ]
  },
  {
   "cell_type": "code",
   "execution_count": 12,
   "id": "f9feccc3",
   "metadata": {},
   "outputs": [
    {
     "name": "stdout",
     "output_type": "stream",
     "text": [
      "Lasso regression score: 0.7302675797069346\n",
      "Lasso regression mae: 0.21321093423425927\n",
      "--------------------------------------\n",
      "K-Fold mean: 0.7277262389294289\n",
      "K-Fold std: 0.00392180139710801\n",
      "Selected features: ['bedrooms', 'bathrooms', 'sqft_living', 'floors', 'view', 'grade', 'sqft_above', 'sqft_basement', 'lat', 'sqft_living15', 'bath_per_bed']\n"
     ]
    }
   ],
   "source": [
    "lasso = Lasso(alpha=0.001)\n",
    "\n",
    "lasso.fit(x_train, y_train)\n",
    "\n",
    "y_pred = lasso.predict(x_test)\n",
    "\n",
    "lasso_score = r2_score(y_test, y_pred)\n",
    "lasso_mae = mean_absolute_error(y_test, y_pred)\n",
    "lasso_scores = cross_val_score(lasso, x, y, cv=kf, scoring='r2')\n",
    "\n",
    "print(f'Lasso regression score: {lasso_score}')\n",
    "print(f'Lasso regression mae: {lasso_mae}')\n",
    "print('--------------------------------------')\n",
    "print(\"K-Fold mean:\", lasso_scores.mean())\n",
    "print(\"K-Fold std:\", lasso_scores.std())\n",
    "print(\"Selected features:\", list(selected_features))"
   ]
  },
  {
   "cell_type": "markdown",
   "id": "2fd5ea4f",
   "metadata": {},
   "source": [
    "# Ridge"
   ]
  },
  {
   "cell_type": "code",
   "execution_count": 13,
   "id": "4251ffd9",
   "metadata": {},
   "outputs": [
    {
     "name": "stdout",
     "output_type": "stream",
     "text": [
      "Ridge regression score: 0.7301555721863293\n",
      "Ridge regression mae: 0.21269432496695376\n",
      "--------------------------------------\n",
      "K-Fold mean: 0.728618000584331\n",
      "K-Fold std: 0.004132989292379794\n",
      "Selected features: ['bedrooms', 'bathrooms', 'sqft_living', 'floors', 'view', 'grade', 'sqft_above', 'sqft_basement', 'lat', 'sqft_living15', 'bath_per_bed']\n"
     ]
    }
   ],
   "source": [
    "ridge = Ridge(alpha=0.1)\n",
    "\n",
    "ridge.fit(x_train, y_train)\n",
    "\n",
    "y_pred = ridge.predict(x_test)\n",
    "\n",
    "ridge_score = r2_score(y_test, y_pred)\n",
    "ridge_mae = mean_absolute_error(y_test, y_pred)\n",
    "ridge_scores = cross_val_score(ridge, x, y, cv=kf, scoring='r2')\n",
    "\n",
    "print(f'Ridge regression score: {ridge_score}')\n",
    "print(f'Ridge regression mae: {ridge_mae}')\n",
    "print('--------------------------------------')\n",
    "print(\"K-Fold mean:\", ridge_scores.mean())\n",
    "print(\"K-Fold std:\", ridge_scores.std())\n",
    "print(\"Selected features:\", list(selected_features))"
   ]
  },
  {
   "cell_type": "markdown",
   "id": "c913975e",
   "metadata": {},
   "source": [
    "# ElasticNet"
   ]
  },
  {
   "cell_type": "code",
   "execution_count": 14,
   "id": "03046863",
   "metadata": {},
   "outputs": [
    {
     "name": "stdout",
     "output_type": "stream",
     "text": [
      "ElasticNet regression score: 0.7299917815889386\n",
      "ElasticNet regression mae: 0.21279327957484673\n",
      "--------------------------------------\n",
      "K-Fold mean: 0.7286025134243854\n",
      "K-Fold std: 0.0040747242799721315\n",
      "Selected features: ['bedrooms', 'bathrooms', 'sqft_living', 'floors', 'view', 'grade', 'sqft_above', 'sqft_basement', 'lat', 'sqft_living15', 'bath_per_bed']\n"
     ]
    }
   ],
   "source": [
    "elastic = ElasticNet(alpha=0.0001)\n",
    "\n",
    "elastic.fit(x_train, y_train)\n",
    "\n",
    "y_pred = elastic.predict(x_test)\n",
    "\n",
    "elastic_score = r2_score(y_test, y_pred)\n",
    "elastic_mae = mean_absolute_error(y_test, y_pred)\n",
    "elastic_scores = cross_val_score(elastic, x, y, cv=kf, scoring='r2')\n",
    "\n",
    "print(f'ElasticNet regression score: {elastic_score}')\n",
    "print(f'ElasticNet regression mae: {elastic_mae}')\n",
    "print('--------------------------------------')\n",
    "print(\"K-Fold mean:\", elastic_scores.mean())\n",
    "print(\"K-Fold std:\", elastic_scores.std())\n",
    "print(\"Selected features:\", list(selected_features))"
   ]
  },
  {
   "cell_type": "markdown",
   "id": "864583a4",
   "metadata": {},
   "source": [
    "# Decision Tree"
   ]
  },
  {
   "cell_type": "code",
   "execution_count": 15,
   "id": "4393c794",
   "metadata": {},
   "outputs": [
    {
     "name": "stdout",
     "output_type": "stream",
     "text": [
      "DecisionTree regression score: 0.7005376992110801\n",
      "DecisionTree regression mae: 0.21376610028292217\n",
      "--------------------------------------\n",
      "K-Fold mean: 0.6879585748201944\n",
      "K-Fold std: 0.012111751163723589\n"
     ]
    }
   ],
   "source": [
    "dt = DecisionTreeRegressor(random_state=42)\n",
    "\n",
    "dt.fit(x_train, y_train)\n",
    "\n",
    "y_pred = dt.predict(x_test)\n",
    "\n",
    "dt_score = r2_score(y_test, y_pred)\n",
    "dt_mae = mean_absolute_error(y_test, y_pred)\n",
    "dt_scores = cross_val_score(dt, x, y, cv=kf, scoring='r2')\n",
    "\n",
    "print(f'DecisionTree regression score: {dt_score}')\n",
    "print(f'DecisionTree regression mae: {dt_mae}')\n",
    "print('--------------------------------------')\n",
    "print(\"K-Fold mean:\", dt_scores.mean())\n",
    "print(\"K-Fold std:\", dt_scores.std())"
   ]
  },
  {
   "cell_type": "markdown",
   "id": "c95feccd",
   "metadata": {},
   "source": [
    "# Random Forest"
   ]
  },
  {
   "cell_type": "code",
   "execution_count": 16,
   "id": "a5750fa7",
   "metadata": {},
   "outputs": [
    {
     "name": "stdout",
     "output_type": "stream",
     "text": [
      "RandomForest regression score: 0.8395371569651913\n",
      "RandomForest regression mae: 0.15495356568369276\n",
      "--------------------------------------\n",
      "K-Fold mean: 0.8364134771748066\n",
      "K-Fold std: 0.004347968327639967\n"
     ]
    }
   ],
   "source": [
    "rf = RandomForestRegressor(random_state=42, n_estimators=200)\n",
    "\n",
    "rf.fit(x_train, y_train)\n",
    "\n",
    "y_pred = rf.predict(x_test)\n",
    "\n",
    "rf_score = r2_score(y_test, y_pred)\n",
    "rf_mae = mean_absolute_error(y_test, y_pred)\n",
    "rf_scores = cross_val_score(rf, x, y, cv=kf, scoring='r2')\n",
    "\n",
    "print(f'RandomForest regression score: {rf_score}')\n",
    "print(f'RandomForest regression mae: {rf_mae}')\n",
    "print('--------------------------------------')\n",
    "print(\"K-Fold mean:\", rf_scores.mean())\n",
    "print(\"K-Fold std:\", rf_scores.std())"
   ]
  },
  {
   "cell_type": "markdown",
   "id": "40ae9688",
   "metadata": {},
   "source": [
    "# Gradient Boosting"
   ]
  },
  {
   "cell_type": "code",
   "execution_count": 17,
   "id": "df07680b",
   "metadata": {},
   "outputs": [
    {
     "name": "stdout",
     "output_type": "stream",
     "text": [
      "Gradient Boosting regression score: 0.8431809155480193\n",
      "Gradient Boosting regression mae: 0.15562328972915015\n",
      "--------------------------------------\n",
      "K-Fold mean: 0.8442008997676991\n",
      "K-Fold std: 0.0026080919372961377\n"
     ]
    }
   ],
   "source": [
    "gb = GradientBoostingRegressor(random_state=42, learning_rate=0.1, max_depth=5)\n",
    "\n",
    "gb.fit(x_train, y_train)\n",
    "\n",
    "y_pred = gb.predict(x_test)\n",
    "\n",
    "gb_score = r2_score(y_test, y_pred)\n",
    "gb_mae = mean_absolute_error(y_test, y_pred)\n",
    "gb_scores = cross_val_score(gb, x, y, cv=kf, scoring='r2')\n",
    "\n",
    "print(f'Gradient Boosting regression score: {gb_score}')\n",
    "print(f'Gradient Boosting regression mae: {gb_mae}')\n",
    "print('--------------------------------------')\n",
    "print(\"K-Fold mean:\", gb_scores.mean())\n",
    "print(\"K-Fold std:\", gb_scores.std())"
   ]
  },
  {
   "cell_type": "markdown",
   "id": "aa684913",
   "metadata": {},
   "source": [
    "# Extra trees"
   ]
  },
  {
   "cell_type": "code",
   "execution_count": 18,
   "id": "4c86ffd0",
   "metadata": {},
   "outputs": [
    {
     "name": "stdout",
     "output_type": "stream",
     "text": [
      "Extra Trees regression score: 0.8350939833751782\n",
      "Extra Trees regression mae: 0.15538686090139103\n",
      "--------------------------------------\n",
      "K-Fold mean: 0.8324133089550003\n",
      "K-Fold std: 0.003920504702615041\n"
     ]
    }
   ],
   "source": [
    "et = ExtraTreesRegressor(random_state=42)\n",
    "\n",
    "et.fit(x_train, y_train)\n",
    "\n",
    "y_pred = et.predict(x_test)\n",
    "\n",
    "et_score = r2_score(y_test, y_pred)\n",
    "et_mae = mean_absolute_error(y_test, y_pred)\n",
    "et_scores = cross_val_score(et, x, y, cv=kf, scoring='r2')\n",
    "\n",
    "print(f'Extra Trees regression score: {et_score}')\n",
    "print(f'Extra Trees regression mae: {et_mae}')\n",
    "print('--------------------------------------')\n",
    "print(\"K-Fold mean:\", et_scores.mean())\n",
    "print(\"K-Fold std:\", et_scores.std())"
   ]
  },
  {
   "cell_type": "markdown",
   "id": "4d453cc6",
   "metadata": {},
   "source": [
    "# Hist Gradient Boosting"
   ]
  },
  {
   "cell_type": "code",
   "execution_count": 19,
   "id": "a183d8bd",
   "metadata": {},
   "outputs": [
    {
     "name": "stdout",
     "output_type": "stream",
     "text": [
      "Hist Gradient Boosting score: 0.8460028492674364\n",
      "Hist Gradient Boosting mae: 0.15387987211575135\n",
      "--------------------------------------\n",
      "K-Fold mean: 0.8463043736434495\n",
      "K-Fold std: 0.002766600725330245\n"
     ]
    }
   ],
   "source": [
    "hgb = HistGradientBoostingRegressor(random_state=42) # 200 ta daraht\n",
    "\n",
    "hgb.fit(x_train, y_train)\n",
    "y_pred = hgb.predict(x_test)\n",
    "\n",
    "hgb_score = r2_score(y_test, y_pred)\n",
    "hgb_mae = mean_absolute_error(y_test, y_pred)\n",
    "hgb_scores = cross_val_score(hgb, x, y, cv=kf, scoring='r2')\n",
    "\n",
    "print(f'Hist Gradient Boosting score: {hgb_score}')\n",
    "print(f'Hist Gradient Boosting mae: {hgb_mae}')\n",
    "print('--------------------------------------')\n",
    "print(\"K-Fold mean:\", hgb_scores.mean())\n",
    "print(\"K-Fold std:\", hgb_scores.std())"
   ]
  },
  {
   "cell_type": "markdown",
   "id": "ff9e833c",
   "metadata": {},
   "source": [
    "# SVM"
   ]
  },
  {
   "cell_type": "code",
   "execution_count": 20,
   "id": "1d8f464d",
   "metadata": {},
   "outputs": [
    {
     "name": "stdout",
     "output_type": "stream",
     "text": [
      "CVM score: 0.8296088436511094\n",
      "CVM mae: 0.16095221480095925\n",
      "--------------------------------------\n",
      "K-Fold mean: 0.8312504419510625\n",
      "K-Fold std: 0.002960753579104105\n"
     ]
    }
   ],
   "source": [
    "svm = SVR(kernel='rbf', C=20.0)\n",
    "\n",
    "svm.fit(x_train, y_train)\n",
    "y_pred = svm.predict(x_test)\n",
    "\n",
    "svm_score = r2_score(y_test, y_pred)\n",
    "svm_mae = mean_absolute_error(y_test, y_pred)\n",
    "svm_scores = cross_val_score(svm, x, y, cv=kf, scoring='r2')\n",
    "\n",
    "print(f'CVM score: {svm_score}')\n",
    "print(f'CVM mae: {svm_mae}')\n",
    "print('--------------------------------------')\n",
    "print(\"K-Fold mean:\", svm_scores.mean())\n",
    "print(\"K-Fold std:\", svm_scores.std())"
   ]
  },
  {
   "cell_type": "code",
   "execution_count": 21,
   "id": "55e3cad1",
   "metadata": {},
   "outputs": [
    {
     "data": {
      "text/plain": [
       "'\\nCVM score: 0.7289856972461891\\nCVM mae: 0.21224108471243086\\n--------------------------------------\\nK-Fold mean: 0.7276188699009725\\nK-Fold std: 0.003959560032352466\\n\\n'"
      ]
     },
     "execution_count": 21,
     "metadata": {},
     "output_type": "execute_result"
    }
   ],
   "source": [
    "# kernel='linear' bulganda result:\n",
    "\n",
    "'''\n",
    "CVM score: 0.7289856972461891\n",
    "CVM mae: 0.21224108471243086\n",
    "--------------------------------------\n",
    "K-Fold mean: 0.7276188699009725\n",
    "K-Fold std: 0.003959560032352466\n",
    "\n",
    "'''"
   ]
  },
  {
   "cell_type": "markdown",
   "id": "6d728836",
   "metadata": {},
   "source": [
    "# KNN"
   ]
  },
  {
   "cell_type": "code",
   "execution_count": 22,
   "id": "0b68a72c",
   "metadata": {},
   "outputs": [
    {
     "name": "stdout",
     "output_type": "stream",
     "text": [
      "KNN score: 0.8158230831988531\n",
      "KNN mae: 0.1662507092814746\n",
      "--------------------------------------\n",
      "K-Fold mean: 0.8128531249455697\n",
      "K-Fold std: 0.00339300547690263\n"
     ]
    }
   ],
   "source": [
    "knn = KNeighborsRegressor(n_neighbors=5)\n",
    "\n",
    "knn.fit(x_train, y_train)\n",
    "y_pred = knn.predict(x_test)\n",
    "\n",
    "knn_score = r2_score(y_test, y_pred)\n",
    "knn_mae = mean_absolute_error(y_test, y_pred)\n",
    "knn_scores = cross_val_score(knn, x, y, cv=kf, scoring='r2')\n",
    "\n",
    "print(f'KNN score: {knn_score}')\n",
    "print(f'KNN mae: {knn_mae}')\n",
    "print('--------------------------------------')\n",
    "print(\"K-Fold mean:\", knn_scores.mean())\n",
    "print(\"K-Fold std:\", knn_scores.std())"
   ]
  },
  {
   "cell_type": "markdown",
   "id": "753c89a7",
   "metadata": {},
   "source": [
    "# XGBoost"
   ]
  },
  {
   "cell_type": "code",
   "execution_count": 23,
   "id": "dc8a718b",
   "metadata": {},
   "outputs": [
    {
     "name": "stdout",
     "output_type": "stream",
     "text": [
      "Lasso regression score: 0.8376814809620308\n",
      "Lasso regression mae: 0.15694966700300658\n",
      "--------------------------------------\n",
      "K-Fold mean: 0.8385877943204555\n",
      "K-Fold std: 0.0023073048182251812\n",
      "Selected features: ['bedrooms', 'bathrooms', 'sqft_living', 'floors', 'view', 'grade', 'sqft_above', 'sqft_basement', 'lat', 'sqft_living15', 'bath_per_bed']\n"
     ]
    }
   ],
   "source": [
    "xgb = xgboost.XGBRegressor()\n",
    "\n",
    "xgb.fit(x_train, y_train)\n",
    "y_pred = xgb.predict(x_test)\n",
    "\n",
    "xgb_score = r2_score(y_test, y_pred)\n",
    "xgb_mae = mean_absolute_error(y_test, y_pred)\n",
    "xgb_scores = cross_val_score(xgb, x, y, cv=kf, scoring='r2')\n",
    "\n",
    "print(f'Lasso regression score: {xgb_score}')\n",
    "print(f'Lasso regression mae: {xgb_mae}')\n",
    "print('--------------------------------------')\n",
    "print(\"K-Fold mean:\", xgb_scores.mean())\n",
    "print(\"K-Fold std:\", xgb_scores.std())\n",
    "print(\"Selected features:\", list(selected_features))"
   ]
  },
  {
   "cell_type": "markdown",
   "id": "e3f0a19f",
   "metadata": {},
   "source": [
    "# Adaboost"
   ]
  },
  {
   "cell_type": "code",
   "execution_count": 24,
   "id": "881d1ca8",
   "metadata": {},
   "outputs": [
    {
     "name": "stdout",
     "output_type": "stream",
     "text": [
      "Lasso regression score: 0.7422633256159186\n",
      "Lasso regression mae: 0.213167934410372\n",
      "--------------------------------------\n",
      "K-Fold mean: 0.7378818622124161\n",
      "K-Fold std: 0.007441284887468434\n",
      "Selected features: ['bedrooms', 'bathrooms', 'sqft_living', 'floors', 'view', 'grade', 'sqft_above', 'sqft_basement', 'lat', 'sqft_living15', 'bath_per_bed']\n"
     ]
    }
   ],
   "source": [
    "ab = AdaBoostRegressor()\n",
    "\n",
    "ab.fit(x_train, y_train)\n",
    "y_pred = ab.predict(x_test)\n",
    "\n",
    "ab_score = r2_score(y_test, y_pred)\n",
    "ab_mae = mean_absolute_error(y_test, y_pred)\n",
    "ab_scores = cross_val_score(ab, x, y, cv=kf, scoring='r2')\n",
    "\n",
    "print(f'Lasso regression score: {ab_score}')\n",
    "print(f'Lasso regression mae: {ab_mae}')\n",
    "print('--------------------------------------')\n",
    "print(\"K-Fold mean:\", ab_scores.mean())\n",
    "print(\"K-Fold std:\", ab_scores.std())\n",
    "print(\"Selected features:\", list(selected_features))"
   ]
  },
  {
   "cell_type": "markdown",
   "id": "00ce9a59",
   "metadata": {},
   "source": [
    "# Tabulate"
   ]
  },
  {
   "cell_type": "code",
   "execution_count": null,
   "id": "2230a847",
   "metadata": {},
   "outputs": [
    {
     "name": "stdout",
     "output_type": "stream",
     "text": [
      "+------------------------+--------------+-----------------------+\n",
      "| Algorithm              |     r2_score |   mean_absolute_error |\n",
      "+========================+==============+=======================+\n",
      "| Linear Regression      | 0.7301693343 |          0.2126874839 |\n",
      "+------------------------+--------------+-----------------------+\n",
      "| Lasso                  | 0.7302675797 |          0.2132109342 |\n",
      "+------------------------+--------------+-----------------------+\n",
      "| Ridge                  | 0.7301555722 |          0.2126943250 |\n",
      "+------------------------+--------------+-----------------------+\n",
      "| ElasticNet             | 0.7299917816 |          0.7299917816 |\n",
      "+------------------------+--------------+-----------------------+\n",
      "| \u001b[31mDecision Tree\u001b[0m          | \u001b[31m0.7005376992\u001b[0m |          \u001b[31m0.2137661003\u001b[0m |\n",
      "+------------------------+--------------+-----------------------+\n",
      "| Random Forest          | 0.8395371570 |          0.1549535657 |\n",
      "+------------------------+--------------+-----------------------+\n",
      "| Gradient Boosting      | 0.8431809155 |          0.1556232897 |\n",
      "+------------------------+--------------+-----------------------+\n",
      "| Extra Trees            | 0.8350939834 |          0.1553868609 |\n",
      "+------------------------+--------------+-----------------------+\n",
      "| \u001b[92mHist Gradient Boosting\u001b[0m | \u001b[92m0.8460028493\u001b[0m |          \u001b[92m0.1538798721\u001b[0m |\n",
      "+------------------------+--------------+-----------------------+\n",
      "| SVM                    | 0.8296088437 |          0.1609522148 |\n",
      "+------------------------+--------------+-----------------------+\n",
      "| KNN                    | 0.8158230832 |          0.1662507093 |\n",
      "+------------------------+--------------+-----------------------+\n",
      "| XGBoost                | 0.8376814810 |          0.1569496670 |\n",
      "+------------------------+--------------+-----------------------+\n",
      "| AdoBoost               | 0.7422633256 |          0.2131679344 |\n",
      "+------------------------+--------------+-----------------------+\n"
     ]
    }
   ],
   "source": [
    "result = [\n",
    "    ['Linear Regression', lr_score, lr_mae],\n",
    "    ['Lasso', lasso_score, lasso_mae],\n",
    "    ['Ridge', ridge_score, ridge_mae],\n",
    "    ['ElasticNet', elastic_score, elastic_score],\n",
    "    ['Decision Tree', dt_score, dt_mae],\n",
    "    ['Random Forest', rf_score, rf_mae],\n",
    "    ['Gradient Boosting', gb_score, gb_mae],\n",
    "    ['Extra Trees', et_score, et_mae],\n",
    "    ['Hist Gradient Boosting', hgb_score, hgb_mae],\n",
    "    ['SVM', svm_score, svm_mae],\n",
    "    ['KNN', knn_score, knn_mae],\n",
    "    ['XGBoost', xgb_score, xgb_mae],\n",
    "    ['AdoBoost', ab_score, ab_mae],\n",
    "]\n",
    "\n",
    "headers = ['Algorithm', 'r2_score', 'mean_absolute_error']\n",
    "\n",
    "best_model = max(result, key=lambda x: x[1])\n",
    "worst_model = min(result, key=lambda x: x[1])\n",
    "\n",
    "green = \"\\033[92m\"\n",
    "red = \"\\x1b[31m\"\n",
    "reset = \"\\033[0m\"\n",
    "\n",
    "for row in result:\n",
    "    if row == best_model:\n",
    "        row[:] = [green + str(i) + reset for i in row]\n",
    "    elif row == worst_model:\n",
    "        row[:] = [red + str(i) + reset for i in row]\n",
    "\n",
    "table = tabulate(result, headers=headers, tablefmt='grid', floatfmt='.10f')\n",
    "\n",
    "print(table)"
   ]
  },
  {
   "cell_type": "code",
   "execution_count": null,
   "id": "ec374081",
   "metadata": {},
   "outputs": [
    {
     "data": {
      "text/plain": [
       "'\\nwithout feature selection\\n+------------------------+--------------+-----------------------+\\n| Algorithm              |     r2_score |   mean_absolute_error |\\n+========================+==============+=======================+\\n| Linear Regression      | 0.7786164020 |          0.1928701743 |\\n+------------------------+--------------+-----------------------+\\n| Lasso                  | 0.7710709606 |          0.1956712414 |\\n+------------------------+--------------+-----------------------+\\n| Ridge                  | 0.7782672587 |          0.1930379333 |\\n+------------------------+--------------+-----------------------+\\n| ElasticNet             | 0.7777941897 |          0.7777941897 |\\n+------------------------+--------------+-----------------------+\\n| Decision Tree          | 0.7790060497 |          0.1798494196 |\\n+------------------------+--------------+-----------------------+\\n| Random Forest          | 0.8907243065 |          0.1255769951 |\\n+------------------------+--------------+-----------------------+\\n| Gradient Boosting      | 0.9037733039 |          0.1208664007 |\\n+------------------------+--------------+-----------------------+\\n| Extra Trees            | 0.8931241231 |          0.1232052055 |\\n+------------------------+--------------+-----------------------+\\n| Hist Gradient Boosting | 0.9061468002 |          0.1181557333 |\\n+------------------------+--------------+-----------------------+\\n| SVM                    | 0.8813296399 |          0.1324744715 |\\n+------------------------+--------------+-----------------------+\\n| KNN                    | 0.7877086620 |          0.1782953809 |\\n+------------------------+--------------+-----------------------+\\n| XGBoost                | 0.9047401348 |          0.1189653810 |\\n+------------------------+--------------+-----------------------+\\n| AdoBoost               | 0.7560212301 |          0.2082984953 |\\n+------------------------+--------------+-----------------------+\\n\\n'"
      ]
     },
     "execution_count": 26,
     "metadata": {},
     "output_type": "execute_result"
    }
   ],
   "source": [
    "'''\n",
    "without feature selection\n",
    "+-------------------------------+------------+-----------------------+---------------+--------------+\n",
    "| Algorithm                     |   r2_score |   mean_absolute_error |   K-Fold Mean |   K-Fold Std |\n",
    "+===============================+============+=======================+===============+==============+\n",
    "| LinearRegression              |   0.778616 |              0.192870 |      0.777548 |     0.004691 |\n",
    "+-------------------------------+------------+-----------------------+---------------+--------------+\n",
    "| Lasso                         |   0.771071 |              0.195671 |      0.770952 |     0.003623 |\n",
    "+-------------------------------+------------+-----------------------+---------------+--------------+\n",
    "| Ridge                         |   0.778267 |              0.193038 |      0.777024 |     0.004473 |\n",
    "+-------------------------------+------------+-----------------------+---------------+--------------+\n",
    "| ElasticNet                    |   0.777794 |              0.193305 |      0.776612 |     0.004442 |\n",
    "+-------------------------------+------------+-----------------------+---------------+--------------+\n",
    "| DecisionTreeRegressor         |   0.779006 |              0.179849 |      0.769882 |     0.012785 |\n",
    "+-------------------------------+------------+-----------------------+---------------+--------------+\n",
    "| RandomForestRegressor         |   0.890724 |              0.125577 |      0.889131 |     0.003517 |\n",
    "+-------------------------------+------------+-----------------------+---------------+--------------+\n",
    "| GradientBoostingRegressor     |   0.903773 |              0.120866 |      0.899562 |     0.002871 |\n",
    "+-------------------------------+------------+-----------------------+---------------+--------------+\n",
    "| ExtraTreesRegressor           |   0.893124 |              0.123205 |      0.890864 |     0.002751 |\n",
    "+-------------------------------+------------+-----------------------+---------------+--------------+\n",
    "| HistGradientBoostingRegressor |   0.906147 |              0.118156 |      0.903152 |     0.002346 |   -> best model\n",
    "+-------------------------------+------------+-----------------------+---------------+--------------+\n",
    "| SVR                           |   0.881330 |              0.132474 |      0.876161 |     0.004658 |\n",
    "+-------------------------------+------------+-----------------------+---------------+--------------+\n",
    "| KNeighborsRegressor           |   0.787709 |              0.178295 |      0.787801 |     0.002358 |\n",
    "+-------------------------------+------------+-----------------------+---------------+--------------+\n",
    "| XGBRegressor                  |   0.904740 |              0.118965 |      0.899465 |     0.003641 |\n",
    "+-------------------------------+------------+-----------------------+---------------+--------------+\n",
    "| AdaBoostRegressor             |   0.765273 |              0.202334 |      0.765347 |     0.007268 |   -> worst model\n",
    "+-------------------------------+------------+-----------------------+---------------+--------------+\n",
    "\n",
    "'''"
   ]
  }
 ],
 "metadata": {
  "kernelspec": {
   "display_name": "Python 3",
   "language": "python",
   "name": "python3"
  },
  "language_info": {
   "codemirror_mode": {
    "name": "ipython",
    "version": 3
   },
   "file_extension": ".py",
   "mimetype": "text/x-python",
   "name": "python",
   "nbconvert_exporter": "python",
   "pygments_lexer": "ipython3",
   "version": "3.11.9"
  }
 },
 "nbformat": 4,
 "nbformat_minor": 5
}
